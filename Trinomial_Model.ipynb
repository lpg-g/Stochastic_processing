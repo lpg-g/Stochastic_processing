{
 "cells": [
  {
   "cell_type": "markdown",
   "id": "72ae95c7",
   "metadata": {},
   "source": [
    "<h1><center>Trinomial model for pricing Options</center></h1>"
   ]
  },
  {
   "cell_type": "markdown",
   "id": "3e6c6376",
   "metadata": {},
   "source": [
    "# Group number 5 "
   ]
  },
  {
   "cell_type": "markdown",
   "id": "e1fe10c9",
   "metadata": {},
   "source": [
    "# by Dr. Long Teng"
   ]
  },
  {
   "cell_type": "markdown",
   "id": "2d8fe9a7",
   "metadata": {},
   "source": [
    "## Group number 5 "
   ]
  },
  {
   "cell_type": "markdown",
   "id": "a77f9d35",
   "metadata": {},
   "source": [
    "Rajat Kheni (220202938)(rajatkheni44@uni-Koblenz.de)\n",
    "\n",
    "Varun Modi(221100512 )(varunmodi@uni-Koblenz.de)\n",
    "\n",
    "Leela Prasad Gurugubelli  (221100436)(leelaprasad@uni-Koblenz.de) "
   ]
  },
  {
   "attachments": {
    "TrinomialTree.jpg": {
     "image/jpeg": "[encoded data removed]"
    }
   },
   "cell_type": "markdown",
   "id": "5e0706fb",
   "metadata": {},
   "source": [
    "![TrinomialTree.jpg](attachment:TrinomialTree.jpg)"
   ]
  },
  {
   "cell_type": "markdown",
   "id": "5e8aaf93",
   "metadata": {},
   "source": [
    "https://www.google.com/search?q=trinomial+model&tbm=isch&source=iu&ictx=1&vet=1&fir=OWWc9e9LyeGCOM%252CmKBuk64pmEfBXM%252C_%253BYNsuNGvyhTGhLM%252Cj6CPcUlbnwzXhM%252C_%253BIN5dx2RmBtUeqM%252C6m202FAd3XXS3M%252C_%253Be3Tt7QJLmzYO5M%252CmJ64us9bdqeY2M%252C_%253BQKpSP5qxQbLIlM%252CYOwIB-a0fqHx_M%252C_&usg=AI4_-kR8imq18p_qRA3b9utxTNwKLNKGsw&sa=X&ved=2ahUKEwiFlaz1tvT7AhU0hf0HHcYSDt0Q_h16BAhiEAE#imgrc=YNsuNGvyhTGhLM"
   ]
  },
  {
   "cell_type": "code",
   "execution_count": 6,
   "id": "d506443c",
   "metadata": {},
   "outputs": [],
   "source": [
    "import math\n",
    "import numpy as np"
   ]
  },
  {
   "cell_type": "code",
   "execution_count": 7,
   "id": "4b15e304",
   "metadata": {},
   "outputs": [],
   "source": [
    "# assume all given Input parameters \n",
    "#sigma = volatality\n",
    "#k is strike price\n",
    "#S0 is intial strike price\n",
    "#N is number of time steps\n",
    "sigma = 0.2\n",
    "K = 100\n",
    "S0 = 100\n",
    "N = 2\n",
    "r = 0.05\n",
    "T = 1\n",
    "d_t = T / N"
   ]
  },
  {
   "cell_type": "markdown",
   "id": "94b501f1",
   "metadata": {},
   "source": [
    "Multiplier on the stock price for an up move u is,\n",
    "<h1><center>$u = e^{\\sigma \\sqrt{2\\Delta t}}$</center></h1>"
   ]
  },
  {
   "cell_type": "markdown",
   "id": "525183fe",
   "metadata": {},
   "source": [
    "Multiplier on the stock price for a down move u is,\n",
    "<h1><center>$d = e^{-\\sigma \\sqrt{2\\Delta t}}$</center></h1>"
   ]
  },
  {
   "cell_type": "markdown",
   "id": "890680b9",
   "metadata": {},
   "source": [
    "Multiplier on the stock price for a middle move u is,\n",
    "<h1><center>$m = ud = 1$</center></h1>"
   ]
  },
  {
   "cell_type": "code",
   "execution_count": 8,
   "id": "821238d2",
   "metadata": {},
   "outputs": [],
   "source": [
    "#1) defining a function to create up and down factors\n",
    "\n",
    "def up_down_factors(sigma, d_t):\n",
    "   \n",
    "    u=math.exp(sigma*math.sqrt(2*d_t));\n",
    "    d=math.exp(-sigma*math.sqrt(2*d_t));\n",
    "    return u,d"
   ]
  },
  {
   "cell_type": "code",
   "execution_count": 9,
   "id": "a81637e1",
   "metadata": {},
   "outputs": [
    {
     "name": "stdout",
     "output_type": "stream",
     "text": [
      "u = 1.2214027581601699\n",
      "d= 0.8187307530779818\n"
     ]
    }
   ],
   "source": [
    "#printing up amnd down factors\n",
    "u, d = up_down_factors(sigma, d_t)\n",
    "print(\"u =\",u)\n",
    "print(\"d=\", d)"
   ]
  },
  {
   "cell_type": "code",
   "execution_count": 10,
   "id": "b70bd7d8",
   "metadata": {},
   "outputs": [],
   "source": [
    "#2) defining a function to calculate the probabilities in the trinomial model\n",
    "\n",
    "def probability(r, sigma, d_t):\n",
    "    \n",
    "    p_d=((math.exp(sigma*math.sqrt(d_t/2))-math.exp(r*(d_t/2)))/\n",
    "         (math.exp(sigma*math.sqrt(d_t/2))-math.exp(-sigma*math.sqrt(d_t/2))))**2\n",
    "    p_u=((math.exp(r*(d_t/2))-math.exp(-sigma*math.sqrt(d_t/2)))/\n",
    "         (math.exp(sigma*math.sqrt(d_t/2))-math.exp(-sigma*math.sqrt(d_t/2))))**2\n",
    "    p_m=1-p_u-p_d;\n",
    "   \n",
    "\n",
    "    return p_u,p_d,p_m"
   ]
  },
  {
   "cell_type": "code",
   "execution_count": 11,
   "id": "542b3f66",
   "metadata": {},
   "outputs": [
    {
     "name": "stdout",
     "output_type": "stream",
     "text": [
      "p_u= 0.28923784494640853\n",
      "p_d= 0.2136211010335806\n",
      "p_m= 0.49714105402001085\n"
     ]
    }
   ],
   "source": [
    "#printing the three probabilities of the trinomial model\n",
    "p_u, p_d, p_m = probability(r, sigma, d_t)\n",
    "print(\"p_u=\",p_u)\n",
    "print(\"p_d=\",p_d)\n",
    "print(\"p_m=\",p_m)\n"
   ]
  },
  {
   "cell_type": "code",
   "execution_count": 12,
   "id": "8e8e6104",
   "metadata": {},
   "outputs": [],
   "source": [
    "# defining a function to calculate stock prices of the trinomial model after giving \n",
    "#some paramets( up and down factors and intial stockk price) as input to the model\n",
    "\n",
    "def stock_price(S0, N, u, d):\n",
    "    \n",
    "    S = np.zeros((N*2+1,N+1))\n",
    "    S[0,0]=S0\n",
    "    for i in range(N*2+1):\n",
    "        for j in range(0,N+1):\n",
    "            if i==j:\n",
    "                S[j,i]=S0\n",
    "           \n",
    "            elif i-j<=j: # d=1/u\n",
    "                S[i,j]=(d**(i-j))*S0                         \n",
    "    return S"
   ]
  },
  {
   "cell_type": "code",
   "execution_count": 13,
   "id": "bcf2bc58",
   "metadata": {},
   "outputs": [
    {
     "name": "stdout",
     "output_type": "stream",
     "text": [
      "Stock Prices\n",
      "[[100.         122.14027582 149.18246976]\n",
      " [  0.         100.         122.14027582]\n",
      " [  0.          81.87307531 100.        ]\n",
      " [  0.           0.          81.87307531]\n",
      " [  0.           0.          67.0320046 ]]\n"
     ]
    }
   ],
   "source": [
    "#printing the stock prices of the trinomial model with N steps\n",
    "S=stock_price(S0, N, u, d)\n",
    "print(\"Stock Prices\")\n",
    "print(S)"
   ]
  },
  {
   "cell_type": "code",
   "execution_count": 14,
   "id": "aed8475c",
   "metadata": {},
   "outputs": [],
   "source": [
    "# defining a function to calculate european call and put of the trinomial model using the three probabilities\n",
    "# and other parameters as input\n",
    "\n",
    "def priceTriEuro(N, K, r, S, p_u, p_d, p_m, d_t):\n",
    "    \n",
    "    \n",
    "    C = np.zeros((2*N + 1, N + 1))\n",
    "    P = np.zeros((2*N + 1, N + 1))\n",
    "   \n",
    "    for k in range(0, 2*N + 1):\n",
    "        if S[k][N]-K <=0: # last column\n",
    "            C[k][N]=0\n",
    "        else:\n",
    "            C[k][N] = S[k][N] - K\n",
    "        if K-S[k][N]<=0:\n",
    "            P[k][N]=0\n",
    "        else:\n",
    "            P[k][N] = K - S[k][N]\n",
    "    #3)Backward (value) iteration for options\n",
    "    for i in range(N-1, -1, -1):   \n",
    "        for j in range(0,  i*2 + 1):\n",
    "            C[j][i] = math.exp(-r*d_t) * (p_d*C[j+2][i+1] + p_m*C[j+1][i+1] + p_u*C[j][i+1])\n",
    "            P[j][i] = math.exp(-r*d_t) * (p_d*P[j+2][i+1] + p_m*P[j+1][i+1] + p_u*P[j][i+1])\n",
    "    return C, P\n",
    "\n"
   ]
  },
  {
   "cell_type": "code",
   "execution_count": 15,
   "id": "16a9dc17",
   "metadata": {},
   "outputs": [
    {
     "name": "stdout",
     "output_type": "stream",
     "text": [
      "European Call\n",
      "[[ 9.97052292 24.60928461 49.18246976]\n",
      " [ 0.          6.24569514 22.14027582]\n",
      " [ 0.          0.          0.        ]\n",
      " [ 0.          0.          0.        ]\n",
      " [ 0.          0.          0.        ]]\n",
      "\n",
      "\n",
      "European Put\n",
      "[[ 5.09346537  0.          0.        ]\n",
      " [ 0.          3.77668634  0.        ]\n",
      " [ 0.         15.6579159   0.        ]\n",
      " [ 0.          0.         18.12692469]\n",
      " [ 0.          0.         32.9679954 ]]\n"
     ]
    }
   ],
   "source": [
    "#printing european call and put values of trinomial model \n",
    "\n",
    "C, P = priceTriEuro(N, K, r, S, p_u, p_d, p_m, d_t)\n",
    "print('European Call')\n",
    "print(C)\n",
    "print(\"\\n\")\n",
    "print('European Put')\n",
    "print(P)"
   ]
  },
  {
   "cell_type": "code",
   "execution_count": 16,
   "id": "fe2b0cb1",
   "metadata": {},
   "outputs": [],
   "source": [
    "# defining a function to calculate american call and put of the trinomial model using the three probabilities\n",
    "# and other parameters as input\n",
    "\n",
    "def priceTriAmer(N, K, r, S, p_u, p_d, p_m, d_t):\n",
    "    \n",
    "    C = np.zeros((2*N + 1, N + 1))\n",
    "    P = np.zeros((2*N + 1, N + 1))\n",
    "\n",
    "   \n",
    "    for k in range(0, 2*N + 1):\n",
    "        if S[k][N]-K <=0:\n",
    "            C[k][N]=0\n",
    "        else:\n",
    "            C[k][N] = S[k][N] - K\n",
    "        if K-S[k][N]<=0:\n",
    "            P[k][N]=0\n",
    "        else:\n",
    "            P[k][N] = K - S[k][N]\n",
    "    # Backward (value) iteration for options\n",
    "    for i in range(N-1, -1, -1):\n",
    "        for j in range(0,  i*2 + 1):\n",
    "            back_C = math.exp(-r*d_t) * (p_d*C[j+2][i+1] + p_m*C[j+1][i+1] + p_u*C[j][i+1])\n",
    "            C[j][i] = max(S[j][i] - K, back_C)\n",
    "            back_P = math.exp(-r*d_t) * (p_d*P[j+2][i+1] + p_m*P[j+1][i+1] + p_u*P[j][i+1])\n",
    "            P[j][i] = max(K - S[j][i], back_P)\n",
    "            \n",
    "    \n",
    "    return C, P"
   ]
  },
  {
   "cell_type": "code",
   "execution_count": 17,
   "id": "df280060",
   "metadata": {},
   "outputs": [
    {
     "name": "stdout",
     "output_type": "stream",
     "text": [
      "American Call\n",
      "[[ 9.97052292 24.60928461 49.18246976]\n",
      " [ 0.          6.24569514 22.14027582]\n",
      " [ 0.          0.          0.        ]\n",
      " [ 0.          0.          0.        ]\n",
      " [ 0.          0.          0.        ]]\n",
      "\n",
      "\n",
      "American Put\n",
      "[[ 5.6078754   0.          0.        ]\n",
      " [ 0.          3.77668634  0.        ]\n",
      " [ 0.         18.12692469  0.        ]\n",
      " [ 0.          0.         18.12692469]\n",
      " [ 0.          0.         32.9679954 ]]\n"
     ]
    }
   ],
   "source": [
    "#printing americal put and call values of trinomial model\n",
    "\n",
    "C, P = priceTriAmer(N, K, r, S, p_u, p_d, p_m, d_t)\n",
    "print('American Call')\n",
    "print(C)\n",
    "print('\\n')\n",
    "print('American Put')\n",
    "print(P)\n"
   ]
  },
  {
   "cell_type": "code",
   "execution_count": 18,
   "id": "f2197b85",
   "metadata": {},
   "outputs": [],
   "source": [
    "def black_scholes(S, K, r, T, t, v, style, type):\n",
    "\n",
    "    # Black-Scholes does not accomodate American options \n",
    "\n",
    "    # S  : spot price \n",
    "    # K  : strike \n",
    "    # r  : riskless rate\n",
    "    # T  : maturity (in yrs.)\n",
    "    # t  : number of steps \n",
    "    # v  : annualized volatility\n",
    "\n",
    "    # Set type of option \n",
    "    if type=='call': x = 1 \n",
    "    if type=='put' : x = -1 \n",
    "\n",
    "    d1 = (math.log(S/K) + (v**2/2 + r)*T)/(v*math.sqrt(T))\n",
    "    d2 = (d1 - v*math.sqrt(T))\n",
    "\n",
    "    return x*S*norm.cdf(x*d1) - x*K*math.exp(-r*T)*norm.cdf(x*d2)"
   ]
  },
  {
   "cell_type": "code",
   "execution_count": 21,
   "id": "bde3a71a",
   "metadata": {},
   "outputs": [],
   "source": [
    "import matplotlib.pyplot as plt\n",
    "from scipy.stats import norm"
   ]
  },
  {
   "cell_type": "code",
   "execution_count": 24,
   "id": "e5e95d0c",
   "metadata": {},
   "outputs": [
    {
     "data": {
      "image/png": "[encoded data removed]",
      "text/plain": [
       "<Figure size 432x288 with 1 Axes>"
      ]
     },
     "metadata": {
      "needs_background": "light"
     },
     "output_type": "display_data"
    }
   ],
   "source": [
    "n = 100\n",
    "\n",
    "# Model Parameters \n",
    "S0 = 13.25\n",
    "K = 15\n",
    "r = 0.0001\n",
    "T = 1/12\n",
    "sigma = 0.7471\n",
    "style = 'euro'\n",
    "type  = 'call'\n",
    "\n",
    "# Initialize array \n",
    "optionPrices = np.empty((n,3))\n",
    "\n",
    "# Populate array\n",
    "for i in range(0,n):\n",
    "    steps = (i+1)*10 \n",
    "    optionPrices[i, 0] = steps\n",
    "    d_t = T / steps\n",
    "    u, d = up_down_factors(sigma, d_t)\n",
    "    p_u, p_d, p_m = probability(r, sigma, d_t)\n",
    "    S1=stock_price(S0, steps, u, d)\n",
    "    C, P = priceTriEuro(steps, K, r, S1, p_u, p_d, p_m, d_t)\n",
    "    optionPrices[i, 1] = C[0][0]\n",
    "    optionPrices[i, 2] = black_scholes(S0, K, r, T, steps, sigma, style, type)\n",
    "\n",
    "# print(optionPrices)\n",
    "# print()\n",
    "\n",
    "plt.plot(optionPrices[:,0],optionPrices[:,1], label='European Price')\n",
    "plt.plot(optionPrices[:,0],optionPrices[:,2], label='B-S Price')\n",
    "plt.show()"
   ]
  },
  {
   "cell_type": "code",
   "execution_count": null,
   "id": "72ec7610",
   "metadata": {},
   "outputs": [],
   "source": []
  }
 ],
 "metadata": {
  "kernelspec": {
   "display_name": "Python 3 (ipykernel)",
   "language": "python",
   "name": "python3"
  },
  "language_info": {
   "codemirror_mode": {
    "name": "ipython",
    "version": 3
   },
   "file_extension": ".py",
   "mimetype": "text/x-python",
   "name": "python",
   "nbconvert_exporter": "python",
   "pygments_lexer": "ipython3",
   "version": "3.9.12"
  }
 },
 "nbformat": 4,
 "nbformat_minor": 5
}
